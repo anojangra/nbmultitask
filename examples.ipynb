{
 "cells": [
  {
   "cell_type": "markdown",
   "metadata": {
    "run_control": {
     "frozen": false,
     "read_only": false
    }
   },
   "source": [
    "#### Installation from github:"
   ]
  },
  {
   "cell_type": "code",
   "execution_count": 1,
   "metadata": {
    "run_control": {
     "frozen": false,
     "read_only": false
    }
   },
   "outputs": [],
   "source": [
    "# !pip install --user git+https://github.com/micahscopes/nbmultitask.git"
   ]
  },
  {
   "cell_type": "markdown",
   "metadata": {
    "run_control": {
     "frozen": false,
     "read_only": false
    }
   },
   "source": [
    "## multithreading with a log queue and button controls"
   ]
  },
  {
   "cell_type": "code",
   "execution_count": 2,
   "metadata": {
    "run_control": {
     "frozen": false,
     "read_only": false
    }
   },
   "outputs": [],
   "source": [
    "from nbmultitask import ThreadWithLogAndControls"
   ]
  },
  {
   "cell_type": "code",
   "execution_count": 3,
   "metadata": {
    "run_control": {
     "frozen": false,
     "read_only": false
    }
   },
   "outputs": [],
   "source": [
    "from time import sleep\n",
    "\n",
    "# the target function will be passed a Queue object via a keyword argument `log`\n",
    "def fn(log):\n",
    "    i = 1\n",
    "    # be careful with loops... (in order for the stop button to work)\n",
    "    while i <= 5:\n",
    "        log.put('%i...' % i)\n",
    "        sleep(1.5)\n",
    "        i+=1\n",
    "\n",
    "task = ThreadWithLogAndControls(target=fn, name=\"do some stuff\")"
   ]
  },
  {
   "cell_type": "code",
   "execution_count": 4,
   "metadata": {
    "run_control": {
     "frozen": false,
     "read_only": false
    }
   },
   "outputs": [
    {
     "data": {
      "application/vnd.jupyter.widget-view+json": {
       "model_id": "baa41e2865874dee9ec5b31c2a70e994"
      }
     },
     "metadata": {},
     "output_type": "display_data"
    },
    {
     "data": {
      "application/vnd.jupyter.widget-view+json": {
       "model_id": "6a2a5590e11d4a889ff092870a37ca01"
      }
     },
     "metadata": {},
     "output_type": "display_data"
    },
    {
     "data": {
      "application/vnd.jupyter.widget-view+json": {
       "model_id": "9f6cf39a8bfc47e19d0026faa54e7178"
      }
     },
     "metadata": {},
     "output_type": "display_data"
    },
    {
     "data": {
      "application/vnd.jupyter.widget-view+json": {
       "model_id": "061b5c2c5fbf492eb7708c717b5d960c"
      }
     },
     "metadata": {},
     "output_type": "display_data"
    }
   ],
   "source": [
    "task.control_panel()"
   ]
  },
  {
   "cell_type": "markdown",
   "metadata": {
    "run_control": {
     "frozen": false,
     "read_only": false
    }
   },
   "source": [
    "## looping, working with a shared variable"
   ]
  },
  {
   "cell_type": "code",
   "execution_count": 5,
   "metadata": {
    "run_control": {
     "frozen": false,
     "read_only": false
    }
   },
   "outputs": [],
   "source": [
    "from nbmultitask import ThreadWithLogAndControls"
   ]
  },
  {
   "cell_type": "code",
   "execution_count": 6,
   "metadata": {
    "run_control": {
     "frozen": false,
     "read_only": false
    }
   },
   "outputs": [],
   "source": [
    "from time import sleep\n",
    "\n",
    "# this function will be looped when we pass `loop=True` to the constructor below\n",
    "def fn(x, log):\n",
    "    log.put(var['value'])\n",
    "    x['value'] = x['value']**1.01\n",
    "    sleep(0.1)\n",
    "\n",
    "x = {'value': 2} # using shared memory\n",
    "task = ThreadWithLogAndControls(target=fn, args=(x,), loop=True, name=\"exponential growth\")"
   ]
  },
  {
   "cell_type": "code",
   "execution_count": 7,
   "metadata": {
    "run_control": {
     "frozen": false,
     "read_only": false
    }
   },
   "outputs": [
    {
     "data": {
      "application/vnd.jupyter.widget-view+json": {
       "model_id": "2ac0f8f5576c4d068853fb15a1f11b76"
      }
     },
     "metadata": {},
     "output_type": "display_data"
    },
    {
     "data": {
      "application/vnd.jupyter.widget-view+json": {
       "model_id": "4837405485b74830bcec03527a2f4bd2"
      }
     },
     "metadata": {},
     "output_type": "display_data"
    },
    {
     "data": {
      "application/vnd.jupyter.widget-view+json": {
       "model_id": "bcbc0604590e4eb8abb481916d4112d8"
      }
     },
     "metadata": {},
     "output_type": "display_data"
    },
    {
     "data": {
      "application/vnd.jupyter.widget-view+json": {
       "model_id": "448d05328620401babc54a1f8dada4d0"
      }
     },
     "metadata": {},
     "output_type": "display_data"
    }
   ],
   "source": [
    "task.control_panel()"
   ]
  },
  {
   "cell_type": "markdown",
   "metadata": {
    "run_control": {
     "frozen": false,
     "read_only": false
    }
   },
   "source": [
    "## multiprocessing"
   ]
  },
  {
   "cell_type": "code",
   "execution_count": 8,
   "metadata": {
    "run_control": {
     "frozen": false,
     "read_only": false
    }
   },
   "outputs": [],
   "source": [
    "from nbmultitask import ProcessWithLogAndControls"
   ]
  },
  {
   "cell_type": "code",
   "execution_count": 9,
   "metadata": {
    "run_control": {
     "frozen": false,
     "read_only": false
    }
   },
   "outputs": [],
   "source": [
    "from time import sleep\n",
    "\n",
    "def fn(x, log):\n",
    "    while True:\n",
    "        log.put(x.value)\n",
    "        x.value = x.value**1.01\n",
    "        sleep(0.1)\n",
    "\n",
    "from multiprocessing import Value\n",
    "x = Value('f',2)\n",
    "task = ProcessWithLogAndControls(target=fn, args=(x,), name=\"exponential growth\")"
   ]
  },
  {
   "cell_type": "code",
   "execution_count": 10,
   "metadata": {
    "run_control": {
     "frozen": false,
     "read_only": false
    }
   },
   "outputs": [
    {
     "data": {
      "application/vnd.jupyter.widget-view+json": {
       "model_id": "39465bf37f104de597bd430cb20dbbdd"
      }
     },
     "metadata": {},
     "output_type": "display_data"
    },
    {
     "data": {
      "application/vnd.jupyter.widget-view+json": {
       "model_id": "573864b0276e4aef80d74707b2661599"
      }
     },
     "metadata": {},
     "output_type": "display_data"
    },
    {
     "data": {
      "application/vnd.jupyter.widget-view+json": {
       "model_id": "832854e5837a4af1943af8ec95d29019"
      }
     },
     "metadata": {},
     "output_type": "display_data"
    },
    {
     "data": {
      "application/vnd.jupyter.widget-view+json": {
       "model_id": "99f4797b951a44578d034d1da8e54d25"
      }
     },
     "metadata": {},
     "output_type": "display_data"
    }
   ],
   "source": [
    "task.control_panel()"
   ]
  },
  {
   "cell_type": "markdown",
   "metadata": {
    "run_control": {
     "frozen": false,
     "read_only": false
    }
   },
   "source": [
    "## subclassing `multiprocessing.Process` with a `work` function"
   ]
  },
  {
   "cell_type": "code",
   "execution_count": 11,
   "metadata": {
    "run_control": {
     "frozen": false,
     "read_only": false
    }
   },
   "outputs": [],
   "source": [
    "from nbmultitask import withLogAndControls\n",
    "from threading import Thread\n",
    "from multiprocessing import Event, Queue, Process\n",
    "from ipywidgets import Button, Layout\n",
    "from IPython.display import display\n",
    "from time import sleep\n",
    "import random\n",
    "\n",
    "class Snoozer(Process):\n",
    "    def __init__(self, *args, **kwargs):\n",
    "        super().__init__(*args,**kwargs)\n",
    "        # add state and buttons\n",
    "        self.snoozing = Event()\n",
    "        self.snooze_button = Button(description='SNOOZE...')\n",
    "        self.snooze_button.layout = layout=Layout(width='50%', height='80px')\n",
    "        self.snooze_button.style.button_color = 'darkslateblue'\n",
    "        self.snooze_button.style.font_weight = 'bold'\n",
    "        self.snooze_button.button_style = 'primary'\n",
    "        self.snooze_button.on_click(lambda evt: self.snoozing.set())\n",
    "        \n",
    "    def show_snooze_button(self):\n",
    "        display(self.snooze_button)\n",
    "    \n",
    "    # this function will be called as though it were passed via `target=`,\n",
    "    # except that it will also have access to the Process Snoozer instance\n",
    "    # (i.e. the `self.snoozing` Event)\n",
    "    def work(self, log):\n",
    "        if self.snoozing.is_set():\n",
    "            snooze_time = random.random()*5\n",
    "            log.put('Snoozing for %s seconds!' % snooze_time)\n",
    "            sleep(snooze_time)\n",
    "            self.snoozing.clear()\n",
    "            \n",
    "        sleep(0.01) # no need to spin the wheels\n"
   ]
  },
  {
   "cell_type": "code",
   "execution_count": 12,
   "metadata": {
    "run_control": {
     "frozen": false,
     "read_only": false
    }
   },
   "outputs": [
    {
     "data": {
      "application/vnd.jupyter.widget-view+json": {
       "model_id": "d7088e2d69b148ceb813ec37a25dedef"
      }
     },
     "metadata": {},
     "output_type": "display_data"
    },
    {
     "data": {
      "application/vnd.jupyter.widget-view+json": {
       "model_id": "2ae699f92dc449299f631759f5b4b598"
      }
     },
     "metadata": {},
     "output_type": "display_data"
    },
    {
     "data": {
      "application/vnd.jupyter.widget-view+json": {
       "model_id": "eb847752da15421ea4c479962d41f7eb"
      }
     },
     "metadata": {},
     "output_type": "display_data"
    },
    {
     "data": {
      "application/vnd.jupyter.widget-view+json": {
       "model_id": "d0ac5111e64e44fab40c0c7add2ac078"
      }
     },
     "metadata": {},
     "output_type": "display_data"
    }
   ],
   "source": [
    "# `withLogAndControls` can be passed any subclass of `multiprocessing.Process` or `threading.Thread`\n",
    "snoozer = withLogAndControls(Snoozer)(loop=True)\n",
    "snoozer.control_panel()"
   ]
  },
  {
   "cell_type": "code",
   "execution_count": 13,
   "metadata": {
    "run_control": {
     "frozen": false,
     "read_only": false
    }
   },
   "outputs": [
    {
     "data": {
      "application/vnd.jupyter.widget-view+json": {
       "model_id": "b7d7a264383e481b898a30786599ae6b"
      }
     },
     "metadata": {},
     "output_type": "display_data"
    }
   ],
   "source": [
    "snoozer.show_snooze_button()"
   ]
  },
  {
   "cell_type": "markdown",
   "metadata": {
    "run_control": {
     "frozen": false,
     "read_only": false
    }
   },
   "source": [
    "## starting/stopping a Flask server"
   ]
  },
  {
   "cell_type": "code",
   "execution_count": 14,
   "metadata": {
    "run_control": {
     "frozen": false,
     "read_only": false
    }
   },
   "outputs": [
    {
     "data": {
      "application/vnd.jupyter.widget-view+json": {
       "model_id": "ded172827c864969be71c61396e6f86a"
      }
     },
     "metadata": {},
     "output_type": "display_data"
    },
    {
     "data": {
      "application/vnd.jupyter.widget-view+json": {
       "model_id": "d02abcec5e5140b4a46d16513d1a5d2d"
      }
     },
     "metadata": {},
     "output_type": "display_data"
    },
    {
     "data": {
      "application/vnd.jupyter.widget-view+json": {
       "model_id": "649c6b8134994bf2be3ef65bbe7032f9"
      }
     },
     "metadata": {},
     "output_type": "display_data"
    },
    {
     "data": {
      "application/vnd.jupyter.widget-view+json": {
       "model_id": "f9d1f267cc7c415e8ad9970b446231d4"
      }
     },
     "metadata": {},
     "output_type": "display_data"
    }
   ],
   "source": [
    "import flask\n",
    "from nbmultitask import ProcessWithLogAndControls\n",
    "\n",
    "class Server(ProcessWithLogAndControls):\n",
    "    def __init__(self,app,*args,**kwargs):\n",
    "        self.app = app\n",
    "        ProcessWithLogAndControls.__init__(self,*args,**kwargs)\n",
    "\n",
    "    def work(self,log):\n",
    "        self.log.put('starting server')\n",
    "#         with self.output:\n",
    "        self.app.run()\n",
    "\n",
    "app = flask.Flask('myapp')\n",
    "\n",
    "server = Server(app)\n",
    "server.control_panel()"
   ]
  },
  {
   "cell_type": "code",
   "execution_count": null,
   "metadata": {
    "collapsed": true
   },
   "outputs": [],
   "source": []
  }
 ],
 "metadata": {
  "kernelspec": {
   "display_name": "Python 3",
   "language": "python",
   "name": "python3"
  },
  "language_info": {
   "codemirror_mode": {
    "name": "ipython",
    "version": 3
   },
   "file_extension": ".py",
   "mimetype": "text/x-python",
   "name": "python",
   "nbconvert_exporter": "python",
   "pygments_lexer": "ipython3",
   "version": "3.6.2"
  },
  "latex_envs": {
   "LaTeX_envs_menu_present": true,
   "autocomplete": true,
   "bibliofile": "biblio.bib",
   "cite_by": "apalike",
   "current_citInitial": 1,
   "eqLabelWithNumbers": true,
   "eqNumInitial": 1,
   "hotkeys": {
    "equation": "Ctrl-E",
    "itemize": "Ctrl-I"
   },
   "labels_anchors": false,
   "latex_user_defs": false,
   "report_style_numbering": false,
   "user_envs_cfg": false
  },
  "widgets": {
   "application/vnd.jupyter.widget-state+json": {
    "state": {
     "00fbb03e1a29422ab1fb99e84d6ecc87": {
      "model_module": "jupyter-js-widgets",
      "model_module_version": "~2.1.4",
      "model_name": "LayoutModel",
      "state": {
       "_model_module_version": "~2.1.4",
       "_view_module_version": "~2.1.4"
      }
     },
     "02b18d025e0e4e03b36cdaad04f26435": {
      "model_module": "jupyter-js-widgets",
      "model_module_version": "~2.1.4",
      "model_name": "LayoutModel",
      "state": {
       "_model_module_version": "~2.1.4",
       "_view_module_version": "~2.1.4"
      }
     },
     "061b5c2c5fbf492eb7708c717b5d960c": {
      "model_module": "jupyter-js-widgets",
      "model_module_version": "~2.1.4",
      "model_name": "OutputModel",
      "state": {
       "_dom_classes": [],
       "_model_module": "jupyter-js-widgets",
       "_model_module_version": "~2.1.4",
       "_view_module": "jupyter-js-widgets",
       "_view_module_version": "~2.1.4",
       "layout": "IPY_MODEL_5bb7f168043149f399ecfa4e315fcf11",
       "msg_throttle": 1
      }
     },
     "117906996b764c9c83a565f35484fb25": {
      "model_module": "jupyter-js-widgets",
      "model_module_version": "~2.1.4",
      "model_name": "LayoutModel",
      "state": {
       "_model_module_version": "~2.1.4",
       "_view_module_version": "~2.1.4"
      }
     },
     "144384cdeb3c4218b4306e53edd484b9": {
      "model_module": "jupyter-js-widgets",
      "model_module_version": "~2.1.4",
      "model_name": "ButtonStyleModel",
      "state": {
       "_model_module_version": "~2.1.4",
       "_view_module_version": "~2.1.4"
      }
     },
     "1b11edc985ff44ee9f3f65c4ee47a5e7": {
      "model_module": "jupyter-js-widgets",
      "model_module_version": "~2.1.4",
      "model_name": "ButtonStyleModel",
      "state": {
       "_model_module_version": "~2.1.4",
       "_view_module_version": "~2.1.4"
      }
     },
     "1c1fc57a8d5d46c1a9980d08ffb3c78b": {
      "model_module": "jupyter-js-widgets",
      "model_module_version": "~2.1.4",
      "model_name": "LayoutModel",
      "state": {
       "_model_module_version": "~2.1.4",
       "_view_module_version": "~2.1.4"
      }
     },
     "244a45eed1fe473891e34c1008c1cb00": {
      "model_module": "jupyter-js-widgets",
      "model_module_version": "~2.1.4",
      "model_name": "LayoutModel",
      "state": {
       "_model_module_version": "~2.1.4",
       "_view_module_version": "~2.1.4"
      }
     },
     "275386670a1c42f9bce61c40a448fdd3": {
      "model_module": "jupyter-js-widgets",
      "model_module_version": "~2.1.4",
      "model_name": "ButtonModel",
      "state": {
       "_model_module_version": "~2.1.4",
       "_view_module_version": "~2.1.4",
       "description": "refresh log",
       "layout": "IPY_MODEL_cc7fe8cd004343c6b2071262a2264b50",
       "style": "IPY_MODEL_ae3bc586a6794129bcdbb123ef181b77"
      }
     },
     "2ac0f8f5576c4d068853fb15a1f11b76": {
      "model_module": "jupyter-js-widgets",
      "model_module_version": "~2.1.4",
      "model_name": "ButtonModel",
      "state": {
       "_model_module_version": "~2.1.4",
       "_view_module_version": "~2.1.4",
       "button_style": "success",
       "description": "start",
       "layout": "IPY_MODEL_b2c67651c88e49ec96b9b4d301a856c6",
       "style": "IPY_MODEL_d9696806112940afa20f94d107ddef3e"
      }
     },
     "2ae699f92dc449299f631759f5b4b598": {
      "model_module": "jupyter-js-widgets",
      "model_module_version": "~2.1.4",
      "model_name": "ButtonModel",
      "state": {
       "_model_module_version": "~2.1.4",
       "_view_module_version": "~2.1.4",
       "button_style": "primary",
       "description": "watch",
       "layout": "IPY_MODEL_4e1ea6d1cec547aeaabaf5660ec9293c",
       "style": "IPY_MODEL_d6c5581e773149fa96bdd90b34c5f35f"
      }
     },
     "2dd48e46d71d4dd7b86c34daaee161c5": {
      "model_module": "jupyter-js-widgets",
      "model_module_version": "~2.1.4",
      "model_name": "LayoutModel",
      "state": {
       "_model_module_version": "~2.1.4",
       "_view_module_version": "~2.1.4"
      }
     },
     "39465bf37f104de597bd430cb20dbbdd": {
      "model_module": "jupyter-js-widgets",
      "model_module_version": "~2.1.4",
      "model_name": "ButtonModel",
      "state": {
       "_model_module_version": "~2.1.4",
       "_view_module_version": "~2.1.4",
       "button_style": "success",
       "description": "start",
       "layout": "IPY_MODEL_99a494061b254aa09498d50b2f3d68ad",
       "style": "IPY_MODEL_1b11edc985ff44ee9f3f65c4ee47a5e7"
      }
     },
     "448d05328620401babc54a1f8dada4d0": {
      "model_module": "jupyter-js-widgets",
      "model_module_version": "~2.1.4",
      "model_name": "OutputModel",
      "state": {
       "_dom_classes": [],
       "_model_module": "jupyter-js-widgets",
       "_model_module_version": "~2.1.4",
       "_view_module": "jupyter-js-widgets",
       "_view_module_version": "~2.1.4",
       "layout": "IPY_MODEL_5b45f4aa2ceb41099a8aca62959a046e",
       "msg_throttle": 1
      }
     },
     "4837405485b74830bcec03527a2f4bd2": {
      "model_module": "jupyter-js-widgets",
      "model_module_version": "~2.1.4",
      "model_name": "ButtonModel",
      "state": {
       "_model_module_version": "~2.1.4",
       "_view_module_version": "~2.1.4",
       "button_style": "primary",
       "description": "watch",
       "layout": "IPY_MODEL_6dc5572838f24c0a95c74639c99df07d",
       "style": "IPY_MODEL_c6962bf3a0b04593b2cc982cff96a7a0"
      }
     },
     "491dd51eb7fa42b68b1b78d73d797aa4": {
      "model_module": "jupyter-js-widgets",
      "model_module_version": "~2.1.4",
      "model_name": "ButtonStyleModel",
      "state": {
       "_model_module_version": "~2.1.4",
       "_view_module_version": "~2.1.4"
      }
     },
     "4b878e650a74405b88f9eff053eb96f7": {
      "model_module": "jupyter-js-widgets",
      "model_module_version": "~2.1.4",
      "model_name": "ButtonModel",
      "state": {
       "_model_module_version": "~2.1.4",
       "_view_module_version": "~2.1.4",
       "description": "refresh log",
       "layout": "IPY_MODEL_02b18d025e0e4e03b36cdaad04f26435",
       "style": "IPY_MODEL_f0242bc172a546c5a55b288468f624d0"
      }
     },
     "4c02adc6ea58450ea612e439298896a2": {
      "model_module": "jupyter-js-widgets",
      "model_module_version": "~2.1.4",
      "model_name": "LayoutModel",
      "state": {
       "_model_module_version": "~2.1.4",
       "_view_module_version": "~2.1.4"
      }
     },
     "4e1ea6d1cec547aeaabaf5660ec9293c": {
      "model_module": "jupyter-js-widgets",
      "model_module_version": "~2.1.4",
      "model_name": "LayoutModel",
      "state": {
       "_model_module_version": "~2.1.4",
       "_view_module_version": "~2.1.4"
      }
     },
     "50b6693ee69e4c1b8025731dd22ee5ef": {
      "model_module": "jupyter-js-widgets",
      "model_module_version": "~2.1.4",
      "model_name": "LayoutModel",
      "state": {
       "_model_module_version": "~2.1.4",
       "_view_module_version": "~2.1.4"
      }
     },
     "51635d980986433dbcdcc1bbd63a8366": {
      "model_module": "jupyter-js-widgets",
      "model_module_version": "~2.1.4",
      "model_name": "ButtonStyleModel",
      "state": {
       "_model_module_version": "~2.1.4",
       "_view_module_version": "~2.1.4",
       "button_color": "darkslateblue",
       "font_weight": "bold"
      }
     },
     "52d9aba68203461082e0f55d4bc9a47e": {
      "model_module": "jupyter-js-widgets",
      "model_module_version": "~2.1.4",
      "model_name": "ButtonStyleModel",
      "state": {
       "_model_module_version": "~2.1.4",
       "_view_module_version": "~2.1.4"
      }
     },
     "573864b0276e4aef80d74707b2661599": {
      "model_module": "jupyter-js-widgets",
      "model_module_version": "~2.1.4",
      "model_name": "ButtonModel",
      "state": {
       "_model_module_version": "~2.1.4",
       "_view_module_version": "~2.1.4",
       "button_style": "primary",
       "description": "watch",
       "layout": "IPY_MODEL_50b6693ee69e4c1b8025731dd22ee5ef",
       "style": "IPY_MODEL_144384cdeb3c4218b4306e53edd484b9"
      }
     },
     "5b45f4aa2ceb41099a8aca62959a046e": {
      "model_module": "jupyter-js-widgets",
      "model_module_version": "~2.1.4",
      "model_name": "LayoutModel",
      "state": {
       "_model_module_version": "~2.1.4",
       "_view_module_version": "~2.1.4"
      }
     },
     "5bb7f168043149f399ecfa4e315fcf11": {
      "model_module": "jupyter-js-widgets",
      "model_module_version": "~2.1.4",
      "model_name": "LayoutModel",
      "state": {
       "_model_module_version": "~2.1.4",
       "_view_module_version": "~2.1.4"
      }
     },
     "5c3319df93484439ab674634222781ff": {
      "model_module": "jupyter-js-widgets",
      "model_module_version": "~2.1.4",
      "model_name": "ButtonStyleModel",
      "state": {
       "_model_module_version": "~2.1.4",
       "_view_module_version": "~2.1.4"
      }
     },
     "649c6b8134994bf2be3ef65bbe7032f9": {
      "model_module": "jupyter-js-widgets",
      "model_module_version": "~2.1.4",
      "model_name": "ButtonModel",
      "state": {
       "_model_module_version": "~2.1.4",
       "_view_module_version": "~2.1.4",
       "description": "clear log",
       "layout": "IPY_MODEL_4c02adc6ea58450ea612e439298896a2",
       "style": "IPY_MODEL_52d9aba68203461082e0f55d4bc9a47e"
      }
     },
     "6a2a5590e11d4a889ff092870a37ca01": {
      "model_module": "jupyter-js-widgets",
      "model_module_version": "~2.1.4",
      "model_name": "ButtonModel",
      "state": {
       "_model_module_version": "~2.1.4",
       "_view_module_version": "~2.1.4",
       "button_style": "primary",
       "description": "watch",
       "layout": "IPY_MODEL_00fbb03e1a29422ab1fb99e84d6ecc87",
       "style": "IPY_MODEL_fce429a8baa4459cab67a914ca9b07da"
      }
     },
     "6dc5572838f24c0a95c74639c99df07d": {
      "model_module": "jupyter-js-widgets",
      "model_module_version": "~2.1.4",
      "model_name": "LayoutModel",
      "state": {
       "_model_module_version": "~2.1.4",
       "_view_module_version": "~2.1.4"
      }
     },
     "71b1e08129714116979d84135425197e": {
      "model_module": "jupyter-js-widgets",
      "model_module_version": "~2.1.4",
      "model_name": "ButtonStyleModel",
      "state": {
       "_model_module_version": "~2.1.4",
       "_view_module_version": "~2.1.4"
      }
     },
     "752e7821bf3c42c087da5db2d60d1fce": {
      "model_module": "jupyter-js-widgets",
      "model_module_version": "~2.1.4",
      "model_name": "ButtonStyleModel",
      "state": {
       "_model_module_version": "~2.1.4",
       "_view_module_version": "~2.1.4"
      }
     },
     "8260df57aac44a8488b5a01ae215621a": {
      "model_module": "jupyter-js-widgets",
      "model_module_version": "~2.1.4",
      "model_name": "ButtonStyleModel",
      "state": {
       "_model_module_version": "~2.1.4",
       "_view_module_version": "~2.1.4"
      }
     },
     "8294d3aedb9543318cdbe7d1626a128d": {
      "model_module": "jupyter-js-widgets",
      "model_module_version": "~2.1.4",
      "model_name": "LayoutModel",
      "state": {
       "_model_module_version": "~2.1.4",
       "_view_module_version": "~2.1.4"
      }
     },
     "832854e5837a4af1943af8ec95d29019": {
      "model_module": "jupyter-js-widgets",
      "model_module_version": "~2.1.4",
      "model_name": "ButtonModel",
      "state": {
       "_model_module_version": "~2.1.4",
       "_view_module_version": "~2.1.4",
       "description": "clear log",
       "layout": "IPY_MODEL_117906996b764c9c83a565f35484fb25",
       "style": "IPY_MODEL_d31bd7df18de4271af1e2918799f4d2c"
      }
     },
     "8b2795ef992d477aadfa64e3791106f2": {
      "model_module": "jupyter-js-widgets",
      "model_module_version": "~2.1.4",
      "model_name": "ButtonStyleModel",
      "state": {
       "_model_module_version": "~2.1.4",
       "_view_module_version": "~2.1.4"
      }
     },
     "8d4d875593384d1f81c9fb6280080c1c": {
      "model_module": "jupyter-js-widgets",
      "model_module_version": "~2.1.4",
      "model_name": "LayoutModel",
      "state": {
       "_model_module_version": "~2.1.4",
       "_view_module_version": "~2.1.4"
      }
     },
     "99a494061b254aa09498d50b2f3d68ad": {
      "model_module": "jupyter-js-widgets",
      "model_module_version": "~2.1.4",
      "model_name": "LayoutModel",
      "state": {
       "_model_module_version": "~2.1.4",
       "_view_module_version": "~2.1.4"
      }
     },
     "99f4797b951a44578d034d1da8e54d25": {
      "model_module": "jupyter-js-widgets",
      "model_module_version": "~2.1.4",
      "model_name": "OutputModel",
      "state": {
       "_dom_classes": [],
       "_model_module": "jupyter-js-widgets",
       "_model_module_version": "~2.1.4",
       "_view_module": "jupyter-js-widgets",
       "_view_module_version": "~2.1.4",
       "layout": "IPY_MODEL_1c1fc57a8d5d46c1a9980d08ffb3c78b",
       "msg_throttle": 1
      }
     },
     "9d65ae01ca5b453ea4c6ce24605faa5b": {
      "model_module": "jupyter-js-widgets",
      "model_module_version": "~2.1.4",
      "model_name": "LayoutModel",
      "state": {
       "_model_module_version": "~2.1.4",
       "_view_module_version": "~2.1.4"
      }
     },
     "9f6cf39a8bfc47e19d0026faa54e7178": {
      "model_module": "jupyter-js-widgets",
      "model_module_version": "~2.1.4",
      "model_name": "ButtonModel",
      "state": {
       "_model_module_version": "~2.1.4",
       "_view_module_version": "~2.1.4",
       "description": "clear log",
       "layout": "IPY_MODEL_8d4d875593384d1f81c9fb6280080c1c",
       "style": "IPY_MODEL_bb2c27cca663498e8d20eb572719922e"
      }
     },
     "a2459681a0f14ec9b61793687318b44a": {
      "model_module": "jupyter-js-widgets",
      "model_module_version": "~2.1.4",
      "model_name": "LayoutModel",
      "state": {
       "_model_module_version": "~2.1.4",
       "_view_module_version": "~2.1.4"
      }
     },
     "a6bf2691057d42adb33b3e06cd8875e6": {
      "model_module": "jupyter-js-widgets",
      "model_module_version": "~2.1.4",
      "model_name": "ButtonModel",
      "state": {
       "_model_module_version": "~2.1.4",
       "_view_module_version": "~2.1.4",
       "description": "refresh log",
       "layout": "IPY_MODEL_d6cee4f04d9242a3bd517065dba85111",
       "style": "IPY_MODEL_8b2795ef992d477aadfa64e3791106f2"
      }
     },
     "ae3bc586a6794129bcdbb123ef181b77": {
      "model_module": "jupyter-js-widgets",
      "model_module_version": "~2.1.4",
      "model_name": "ButtonStyleModel",
      "state": {
       "_model_module_version": "~2.1.4",
       "_view_module_version": "~2.1.4"
      }
     },
     "b22db1dd1e064da4a29301880765cb57": {
      "model_module": "jupyter-js-widgets",
      "model_module_version": "~2.1.4",
      "model_name": "LayoutModel",
      "state": {
       "_model_module_version": "~2.1.4",
       "_view_module_version": "~2.1.4"
      }
     },
     "b2c67651c88e49ec96b9b4d301a856c6": {
      "model_module": "jupyter-js-widgets",
      "model_module_version": "~2.1.4",
      "model_name": "LayoutModel",
      "state": {
       "_model_module_version": "~2.1.4",
       "_view_module_version": "~2.1.4"
      }
     },
     "b5c399e900bf43d692353e4cfa4b5950": {
      "model_module": "jupyter-js-widgets",
      "model_module_version": "~2.1.4",
      "model_name": "ButtonStyleModel",
      "state": {
       "_model_module_version": "~2.1.4",
       "_view_module_version": "~2.1.4"
      }
     },
     "b7d7a264383e481b898a30786599ae6b": {
      "model_module": "jupyter-js-widgets",
      "model_module_version": "~2.1.4",
      "model_name": "ButtonModel",
      "state": {
       "_model_module_version": "~2.1.4",
       "_view_module_version": "~2.1.4",
       "button_style": "primary",
       "description": "SNOOZE...",
       "layout": "IPY_MODEL_d0db93387e8d4aa79da42e42775ccd44",
       "style": "IPY_MODEL_51635d980986433dbcdcc1bbd63a8366"
      }
     },
     "baa41e2865874dee9ec5b31c2a70e994": {
      "model_module": "jupyter-js-widgets",
      "model_module_version": "~2.1.4",
      "model_name": "ButtonModel",
      "state": {
       "_model_module_version": "~2.1.4",
       "_view_module_version": "~2.1.4",
       "button_style": "success",
       "description": "start",
       "layout": "IPY_MODEL_244a45eed1fe473891e34c1008c1cb00",
       "style": "IPY_MODEL_491dd51eb7fa42b68b1b78d73d797aa4"
      }
     },
     "bb2c27cca663498e8d20eb572719922e": {
      "model_module": "jupyter-js-widgets",
      "model_module_version": "~2.1.4",
      "model_name": "ButtonStyleModel",
      "state": {
       "_model_module_version": "~2.1.4",
       "_view_module_version": "~2.1.4"
      }
     },
     "bcbc0604590e4eb8abb481916d4112d8": {
      "model_module": "jupyter-js-widgets",
      "model_module_version": "~2.1.4",
      "model_name": "ButtonModel",
      "state": {
       "_model_module_version": "~2.1.4",
       "_view_module_version": "~2.1.4",
       "description": "clear log",
       "layout": "IPY_MODEL_2dd48e46d71d4dd7b86c34daaee161c5",
       "style": "IPY_MODEL_ecb162625ea941a3bec7f986291d6f7d"
      }
     },
     "c236b3a8c512440f9655a4802a343f72": {
      "model_module": "jupyter-js-widgets",
      "model_module_version": "~2.1.4",
      "model_name": "ButtonModel",
      "state": {
       "_model_module_version": "~2.1.4",
       "_view_module_version": "~2.1.4",
       "description": "refresh log",
       "layout": "IPY_MODEL_9d65ae01ca5b453ea4c6ce24605faa5b",
       "style": "IPY_MODEL_cb65fc1ec474401a95c20f87d5a52174"
      }
     },
     "c41814ad391e4d80b4aea209e5c22b55": {
      "model_module": "jupyter-js-widgets",
      "model_module_version": "~2.1.4",
      "model_name": "LayoutModel",
      "state": {
       "_model_module_version": "~2.1.4",
       "_view_module_version": "~2.1.4"
      }
     },
     "c6962bf3a0b04593b2cc982cff96a7a0": {
      "model_module": "jupyter-js-widgets",
      "model_module_version": "~2.1.4",
      "model_name": "ButtonStyleModel",
      "state": {
       "_model_module_version": "~2.1.4",
       "_view_module_version": "~2.1.4"
      }
     },
     "cb65fc1ec474401a95c20f87d5a52174": {
      "model_module": "jupyter-js-widgets",
      "model_module_version": "~2.1.4",
      "model_name": "ButtonStyleModel",
      "state": {
       "_model_module_version": "~2.1.4",
       "_view_module_version": "~2.1.4"
      }
     },
     "cc7fe8cd004343c6b2071262a2264b50": {
      "model_module": "jupyter-js-widgets",
      "model_module_version": "~2.1.4",
      "model_name": "LayoutModel",
      "state": {
       "_model_module_version": "~2.1.4",
       "_view_module_version": "~2.1.4"
      }
     },
     "cd15ef777c5a46a2bbf6bce37dcff1df": {
      "model_module": "jupyter-js-widgets",
      "model_module_version": "~2.1.4",
      "model_name": "LayoutModel",
      "state": {
       "_model_module_version": "~2.1.4",
       "_view_module_version": "~2.1.4"
      }
     },
     "cea5d9a3813646f180de6e6d74b09deb": {
      "model_module": "jupyter-js-widgets",
      "model_module_version": "~2.1.4",
      "model_name": "ButtonModel",
      "state": {
       "_model_module_version": "~2.1.4",
       "_view_module_version": "~2.1.4",
       "description": "refresh log",
       "layout": "IPY_MODEL_e0ef8bd230c147bcb6509cbf3a507b9b",
       "style": "IPY_MODEL_b5c399e900bf43d692353e4cfa4b5950"
      }
     },
     "d02abcec5e5140b4a46d16513d1a5d2d": {
      "model_module": "jupyter-js-widgets",
      "model_module_version": "~2.1.4",
      "model_name": "ButtonModel",
      "state": {
       "_model_module_version": "~2.1.4",
       "_view_module_version": "~2.1.4",
       "button_style": "primary",
       "description": "watch",
       "layout": "IPY_MODEL_8294d3aedb9543318cdbe7d1626a128d",
       "style": "IPY_MODEL_8260df57aac44a8488b5a01ae215621a"
      }
     },
     "d0ac5111e64e44fab40c0c7add2ac078": {
      "model_module": "jupyter-js-widgets",
      "model_module_version": "~2.1.4",
      "model_name": "OutputModel",
      "state": {
       "_dom_classes": [],
       "_model_module": "jupyter-js-widgets",
       "_model_module_version": "~2.1.4",
       "_view_module": "jupyter-js-widgets",
       "_view_module_version": "~2.1.4",
       "layout": "IPY_MODEL_c41814ad391e4d80b4aea209e5c22b55",
       "msg_throttle": 1
      }
     },
     "d0db93387e8d4aa79da42e42775ccd44": {
      "model_module": "jupyter-js-widgets",
      "model_module_version": "~2.1.4",
      "model_name": "LayoutModel",
      "state": {
       "_model_module_version": "~2.1.4",
       "_view_module_version": "~2.1.4",
       "height": "80px",
       "width": "50%"
      }
     },
     "d31bd7df18de4271af1e2918799f4d2c": {
      "model_module": "jupyter-js-widgets",
      "model_module_version": "~2.1.4",
      "model_name": "ButtonStyleModel",
      "state": {
       "_model_module_version": "~2.1.4",
       "_view_module_version": "~2.1.4"
      }
     },
     "d6c5581e773149fa96bdd90b34c5f35f": {
      "model_module": "jupyter-js-widgets",
      "model_module_version": "~2.1.4",
      "model_name": "ButtonStyleModel",
      "state": {
       "_model_module_version": "~2.1.4",
       "_view_module_version": "~2.1.4"
      }
     },
     "d6cee4f04d9242a3bd517065dba85111": {
      "model_module": "jupyter-js-widgets",
      "model_module_version": "~2.1.4",
      "model_name": "LayoutModel",
      "state": {
       "_model_module_version": "~2.1.4",
       "_view_module_version": "~2.1.4"
      }
     },
     "d7088e2d69b148ceb813ec37a25dedef": {
      "model_module": "jupyter-js-widgets",
      "model_module_version": "~2.1.4",
      "model_name": "ButtonModel",
      "state": {
       "_model_module_version": "~2.1.4",
       "_view_module_version": "~2.1.4",
       "button_style": "success",
       "description": "start",
       "layout": "IPY_MODEL_cd15ef777c5a46a2bbf6bce37dcff1df",
       "style": "IPY_MODEL_71b1e08129714116979d84135425197e"
      }
     },
     "d9696806112940afa20f94d107ddef3e": {
      "model_module": "jupyter-js-widgets",
      "model_module_version": "~2.1.4",
      "model_name": "ButtonStyleModel",
      "state": {
       "_model_module_version": "~2.1.4",
       "_view_module_version": "~2.1.4"
      }
     },
     "ded172827c864969be71c61396e6f86a": {
      "model_module": "jupyter-js-widgets",
      "model_module_version": "~2.1.4",
      "model_name": "ButtonModel",
      "state": {
       "_model_module_version": "~2.1.4",
       "_view_module_version": "~2.1.4",
       "button_style": "success",
       "description": "start",
       "layout": "IPY_MODEL_f6037c136a8b42b19c678c69988256ec",
       "style": "IPY_MODEL_752e7821bf3c42c087da5db2d60d1fce"
      }
     },
     "e0ef8bd230c147bcb6509cbf3a507b9b": {
      "model_module": "jupyter-js-widgets",
      "model_module_version": "~2.1.4",
      "model_name": "LayoutModel",
      "state": {
       "_model_module_version": "~2.1.4",
       "_view_module_version": "~2.1.4"
      }
     },
     "e304396bf5b94649a3f4d8ae38f88879": {
      "model_module": "jupyter-js-widgets",
      "model_module_version": "~2.1.4",
      "model_name": "LayoutModel",
      "state": {
       "_model_module_version": "~2.1.4",
       "_view_module_version": "~2.1.4"
      }
     },
     "eb847752da15421ea4c479962d41f7eb": {
      "model_module": "jupyter-js-widgets",
      "model_module_version": "~2.1.4",
      "model_name": "ButtonModel",
      "state": {
       "_model_module_version": "~2.1.4",
       "_view_module_version": "~2.1.4",
       "description": "clear log",
       "layout": "IPY_MODEL_a2459681a0f14ec9b61793687318b44a",
       "style": "IPY_MODEL_5c3319df93484439ab674634222781ff"
      }
     },
     "ecb162625ea941a3bec7f986291d6f7d": {
      "model_module": "jupyter-js-widgets",
      "model_module_version": "~2.1.4",
      "model_name": "ButtonStyleModel",
      "state": {
       "_model_module_version": "~2.1.4",
       "_view_module_version": "~2.1.4"
      }
     },
     "f0242bc172a546c5a55b288468f624d0": {
      "model_module": "jupyter-js-widgets",
      "model_module_version": "~2.1.4",
      "model_name": "ButtonStyleModel",
      "state": {
       "_model_module_version": "~2.1.4",
       "_view_module_version": "~2.1.4"
      }
     },
     "f6037c136a8b42b19c678c69988256ec": {
      "model_module": "jupyter-js-widgets",
      "model_module_version": "~2.1.4",
      "model_name": "LayoutModel",
      "state": {
       "_model_module_version": "~2.1.4",
       "_view_module_version": "~2.1.4"
      }
     },
     "f9d1f267cc7c415e8ad9970b446231d4": {
      "model_module": "jupyter-js-widgets",
      "model_module_version": "~2.1.4",
      "model_name": "OutputModel",
      "state": {
       "_dom_classes": [],
       "_model_module": "jupyter-js-widgets",
       "_model_module_version": "~2.1.4",
       "_view_module": "jupyter-js-widgets",
       "_view_module_version": "~2.1.4",
       "layout": "IPY_MODEL_b22db1dd1e064da4a29301880765cb57",
       "msg_throttle": 1
      }
     },
     "fce429a8baa4459cab67a914ca9b07da": {
      "model_module": "jupyter-js-widgets",
      "model_module_version": "~2.1.4",
      "model_name": "ButtonStyleModel",
      "state": {
       "_model_module_version": "~2.1.4",
       "_view_module_version": "~2.1.4"
      }
     }
    },
    "version_major": 1,
    "version_minor": 0
   }
  }
 },
 "nbformat": 4,
 "nbformat_minor": 2
}
